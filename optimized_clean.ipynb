{
 "cells": [
  {
   "cell_type": "markdown",
   "metadata": {},
   "source": [
    "# Data Cleansing for Health Investment"
   ]
  },
  {
   "cell_type": "markdown",
   "metadata": {},
   "source": [
    "## Set-up"
   ]
  },
  {
   "cell_type": "code",
   "execution_count": 3,
   "metadata": {},
   "outputs": [],
   "source": [
    "import pandas as pd\n",
    "import numpy as np\n",
    "import os\n",
    "\n",
    "pd.set_option('display.max_column', None)\n",
    "pd.set_option('display.float_format', '{:.0f}'.format)\n",
    "\n",
    "def data_explore(filepath):\n",
    "    \"\"\"Explores and prints information about a CSV file.\"\"\"\n",
    "    try:\n",
    "        df = pd.read_csv(filepath, encoding='ISO-8859-1')\n",
    "    except FileNotFoundError:\n",
    "        print(f\"Error: File not found at {filepath}\")\n",
    "        return None\n",
    "\n",
    "    print(f\"\\n\\nData dimensions:\\n{df.shape}\")\n",
    "    # print(f\"\\n\\nNull values:\\n{df.isnull().sum()}\")\n",
    "    return df\n",
    "\n",
    "# File paths\n",
    "base_path = \"C:/Users/nhien/Downloads/HI/\"\n",
    "provider_files = [f\"ProviderInfo_{year}.csv\" for year in range(2015, 2022)]\n",
    "health_deficiency_files = [f\"HealthDeficiencies_{year}.csv\" for year in range(2015, 2022)]\n",
    "quality_files = [f\"QualityMsrMDS_{year}.csv\" for year in range(2015, 2022)]\n",
    "penalties_files = [f\"Penalties_{year}.csv\" for year in range(2015, 2022)]\n",
    "\n",
    "## Cost report files will be imported separately later\n"
   ]
  },
  {
   "cell_type": "markdown",
   "metadata": {},
   "source": [
    "## provider_info tables"
   ]
  },
  {
   "cell_type": "code",
   "execution_count": 4,
   "metadata": {},
   "outputs": [
    {
     "name": "stdout",
     "output_type": "stream",
     "text": [
      "\n",
      "\n",
      "Data dimensions:\n",
      "(15661, 79)\n",
      "\n",
      "\n",
      "Data dimensions:\n",
      "(15651, 80)\n"
     ]
    },
    {
     "name": "stderr",
     "output_type": "stream",
     "text": [
      "C:\\Users\\nhien\\AppData\\Local\\Temp\\ipykernel_4188\\1710223759.py:28: SettingWithCopyWarning: \n",
      "A value is trying to be set on a copy of a slice from a DataFrame.\n",
      "Try using .loc[row_indexer,col_indexer] = value instead\n",
      "\n",
      "See the caveats in the documentation: https://pandas.pydata.org/pandas-docs/stable/user_guide/indexing.html#returning-a-view-versus-a-copy\n",
      "  df['year'] = year\n",
      "C:\\Users\\nhien\\AppData\\Local\\Temp\\ipykernel_4188\\1710223759.py:28: SettingWithCopyWarning: \n",
      "A value is trying to be set on a copy of a slice from a DataFrame.\n",
      "Try using .loc[row_indexer,col_indexer] = value instead\n",
      "\n",
      "See the caveats in the documentation: https://pandas.pydata.org/pandas-docs/stable/user_guide/indexing.html#returning-a-view-versus-a-copy\n",
      "  df['year'] = year\n"
     ]
    },
    {
     "name": "stdout",
     "output_type": "stream",
     "text": [
      "\n",
      "\n",
      "Data dimensions:\n",
      "(15646, 80)\n",
      "\n",
      "\n",
      "Data dimensions:\n",
      "(15596, 78)\n"
     ]
    },
    {
     "name": "stderr",
     "output_type": "stream",
     "text": [
      "C:\\Users\\nhien\\AppData\\Local\\Temp\\ipykernel_4188\\1710223759.py:28: SettingWithCopyWarning: \n",
      "A value is trying to be set on a copy of a slice from a DataFrame.\n",
      "Try using .loc[row_indexer,col_indexer] = value instead\n",
      "\n",
      "See the caveats in the documentation: https://pandas.pydata.org/pandas-docs/stable/user_guide/indexing.html#returning-a-view-versus-a-copy\n",
      "  df['year'] = year\n",
      "C:\\Users\\nhien\\AppData\\Local\\Temp\\ipykernel_4188\\1710223759.py:28: SettingWithCopyWarning: \n",
      "A value is trying to be set on a copy of a slice from a DataFrame.\n",
      "Try using .loc[row_indexer,col_indexer] = value instead\n",
      "\n",
      "See the caveats in the documentation: https://pandas.pydata.org/pandas-docs/stable/user_guide/indexing.html#returning-a-view-versus-a-copy\n",
      "  df['year'] = year\n"
     ]
    },
    {
     "name": "stdout",
     "output_type": "stream",
     "text": [
      "\n",
      "\n",
      "Data dimensions:\n",
      "(15471, 85)\n",
      "\n",
      "\n",
      "Data dimensions:\n",
      "(15348, 87)\n"
     ]
    },
    {
     "name": "stderr",
     "output_type": "stream",
     "text": [
      "C:\\Users\\nhien\\AppData\\Local\\Temp\\ipykernel_4188\\1710223759.py:28: SettingWithCopyWarning: \n",
      "A value is trying to be set on a copy of a slice from a DataFrame.\n",
      "Try using .loc[row_indexer,col_indexer] = value instead\n",
      "\n",
      "See the caveats in the documentation: https://pandas.pydata.org/pandas-docs/stable/user_guide/indexing.html#returning-a-view-versus-a-copy\n",
      "  df['year'] = year\n",
      "C:\\Users\\nhien\\AppData\\Local\\Temp\\ipykernel_4188\\1710223759.py:28: SettingWithCopyWarning: \n",
      "A value is trying to be set on a copy of a slice from a DataFrame.\n",
      "Try using .loc[row_indexer,col_indexer] = value instead\n",
      "\n",
      "See the caveats in the documentation: https://pandas.pydata.org/pandas-docs/stable/user_guide/indexing.html#returning-a-view-versus-a-copy\n",
      "  df['year'] = year\n"
     ]
    },
    {
     "name": "stdout",
     "output_type": "stream",
     "text": [
      "\n",
      "\n",
      "Data dimensions:\n",
      "(15264, 88)\n"
     ]
    },
    {
     "name": "stderr",
     "output_type": "stream",
     "text": [
      "C:\\Users\\nhien\\AppData\\Local\\Temp\\ipykernel_4188\\1710223759.py:28: SettingWithCopyWarning: \n",
      "A value is trying to be set on a copy of a slice from a DataFrame.\n",
      "Try using .loc[row_indexer,col_indexer] = value instead\n",
      "\n",
      "See the caveats in the documentation: https://pandas.pydata.org/pandas-docs/stable/user_guide/indexing.html#returning-a-view-versus-a-copy\n",
      "  df['year'] = year\n"
     ]
    }
   ],
   "source": [
    "def process_provider_csv(df, year):\n",
    "    \"\"\"Processes provider information CSV files.\"\"\"\n",
    "    required_cols = [\"provnum\", \"provname\", \"state\", \"address\", \"city\", \"zip\", \n",
    "                     \"ownership\", \"restot\", \"overall_rating\", \n",
    "                     \"survey_rating\", \"quality_rating\", \"staffing_rating\", \"adj_total\"]\n",
    "    \n",
    "    df.columns = df.columns.str.lower()\n",
    "    \n",
    "    if year >= 2020:\n",
    "        column_mapping = {\n",
    "            \"federal provider number\": \"provnum\", \n",
    "            \"provider name\": \"provname\", \n",
    "            \"provider state\": \"state\", \n",
    "            \"provider address\": \"address\", \n",
    "            \"provider city\": \"city\", \n",
    "            \"provider zip code\": \"zip\", \n",
    "            \"ownership type\": \"ownership\", \n",
    "            \"average number of residents per day\": \"restot\", \n",
    "            \"overall rating\": \"overall_rating\", \n",
    "            \"health inspection rating\": \"survey_rating\", \n",
    "            \"qm rating\": \"quality_rating\", \n",
    "            \"staffing rating\": \"staffing_rating\", \n",
    "            \"adjusted total nurse staffing hours per resident per day\": \"adj_total\"\n",
    "        }\n",
    "        df.rename(columns=column_mapping, inplace=True)\n",
    "    \n",
    "    df = df[required_cols]\n",
    "    df['year'] = year\n",
    "    return df\n",
    "\n",
    "\n",
    "# Process provider data\n",
    "provider_dfs = []\n",
    "for year, file in zip(range(2015, 2022), provider_files):\n",
    "    filepath = os.path.join(base_path, file)\n",
    "    df = data_explore(filepath)\n",
    "    if df is not None:\n",
    "        provider_dfs.append(process_provider_csv(df, year))\n",
    "\n",
    "# Union\n",
    "provider_info = pd.concat(provider_dfs, ignore_index=True)\n",
    "\n",
    "# Ensure provnum is char(6) datatype\n",
    "provider_info['provnum'] = provider_info['provnum'].astype(str).str.zfill(6)\n",
    "\n"
   ]
  },
  {
   "cell_type": "code",
   "execution_count": null,
   "metadata": {},
   "outputs": [],
   "source": [
    "# # Check data  \n",
    "# print(provider_info.shape)\n",
    "# print(provider_info.info())\n",
    "# print(provider_info.isnull().sum())"
   ]
  },
  {
   "cell_type": "markdown",
   "metadata": {},
   "source": [
    "## health_deficiencies table"
   ]
  },
  {
   "cell_type": "code",
   "execution_count": 5,
   "metadata": {},
   "outputs": [
    {
     "name": "stderr",
     "output_type": "stream",
     "text": [
      "C:\\Users\\nhien\\AppData\\Local\\Temp\\ipykernel_4188\\189969246.py:11: DtypeWarning: Columns (0) have mixed types. Specify dtype option on import or set low_memory=False.\n",
      "  df = pd.read_csv(filepath, encoding='ISO-8859-1')\n",
      "C:\\Users\\nhien\\AppData\\Local\\Temp\\ipykernel_4188\\2715301845.py:15: SettingWithCopyWarning: \n",
      "A value is trying to be set on a copy of a slice from a DataFrame.\n",
      "Try using .loc[row_indexer,col_indexer] = value instead\n",
      "\n",
      "See the caveats in the documentation: https://pandas.pydata.org/pandas-docs/stable/user_guide/indexing.html#returning-a-view-versus-a-copy\n",
      "  df['year'] = year\n"
     ]
    },
    {
     "name": "stdout",
     "output_type": "stream",
     "text": [
      "\n",
      "\n",
      "Data dimensions:\n",
      "(479167, 18)\n"
     ]
    },
    {
     "name": "stderr",
     "output_type": "stream",
     "text": [
      "C:\\Users\\nhien\\AppData\\Local\\Temp\\ipykernel_4188\\189969246.py:11: DtypeWarning: Columns (0) have mixed types. Specify dtype option on import or set low_memory=False.\n",
      "  df = pd.read_csv(filepath, encoding='ISO-8859-1')\n",
      "C:\\Users\\nhien\\AppData\\Local\\Temp\\ipykernel_4188\\2715301845.py:15: SettingWithCopyWarning: \n",
      "A value is trying to be set on a copy of a slice from a DataFrame.\n",
      "Try using .loc[row_indexer,col_indexer] = value instead\n",
      "\n",
      "See the caveats in the documentation: https://pandas.pydata.org/pandas-docs/stable/user_guide/indexing.html#returning-a-view-versus-a-copy\n",
      "  df['year'] = year\n"
     ]
    },
    {
     "name": "stdout",
     "output_type": "stream",
     "text": [
      "\n",
      "\n",
      "Data dimensions:\n",
      "(329324, 18)\n"
     ]
    },
    {
     "name": "stderr",
     "output_type": "stream",
     "text": [
      "C:\\Users\\nhien\\AppData\\Local\\Temp\\ipykernel_4188\\189969246.py:11: DtypeWarning: Columns (0) have mixed types. Specify dtype option on import or set low_memory=False.\n",
      "  df = pd.read_csv(filepath, encoding='ISO-8859-1')\n",
      "C:\\Users\\nhien\\AppData\\Local\\Temp\\ipykernel_4188\\2715301845.py:15: SettingWithCopyWarning: \n",
      "A value is trying to be set on a copy of a slice from a DataFrame.\n",
      "Try using .loc[row_indexer,col_indexer] = value instead\n",
      "\n",
      "See the caveats in the documentation: https://pandas.pydata.org/pandas-docs/stable/user_guide/indexing.html#returning-a-view-versus-a-copy\n",
      "  df['year'] = year\n"
     ]
    },
    {
     "name": "stdout",
     "output_type": "stream",
     "text": [
      "\n",
      "\n",
      "Data dimensions:\n",
      "(338451, 18)\n"
     ]
    },
    {
     "name": "stderr",
     "output_type": "stream",
     "text": [
      "C:\\Users\\nhien\\AppData\\Local\\Temp\\ipykernel_4188\\189969246.py:11: DtypeWarning: Columns (0) have mixed types. Specify dtype option on import or set low_memory=False.\n",
      "  df = pd.read_csv(filepath, encoding='ISO-8859-1')\n",
      "C:\\Users\\nhien\\AppData\\Local\\Temp\\ipykernel_4188\\2715301845.py:15: SettingWithCopyWarning: \n",
      "A value is trying to be set on a copy of a slice from a DataFrame.\n",
      "Try using .loc[row_indexer,col_indexer] = value instead\n",
      "\n",
      "See the caveats in the documentation: https://pandas.pydata.org/pandas-docs/stable/user_guide/indexing.html#returning-a-view-versus-a-copy\n",
      "  df['year'] = year\n"
     ]
    },
    {
     "name": "stdout",
     "output_type": "stream",
     "text": [
      "\n",
      "\n",
      "Data dimensions:\n",
      "(350887, 19)\n"
     ]
    },
    {
     "name": "stderr",
     "output_type": "stream",
     "text": [
      "C:\\Users\\nhien\\AppData\\Local\\Temp\\ipykernel_4188\\189969246.py:11: DtypeWarning: Columns (0) have mixed types. Specify dtype option on import or set low_memory=False.\n",
      "  df = pd.read_csv(filepath, encoding='ISO-8859-1')\n",
      "C:\\Users\\nhien\\AppData\\Local\\Temp\\ipykernel_4188\\2715301845.py:15: SettingWithCopyWarning: \n",
      "A value is trying to be set on a copy of a slice from a DataFrame.\n",
      "Try using .loc[row_indexer,col_indexer] = value instead\n",
      "\n",
      "See the caveats in the documentation: https://pandas.pydata.org/pandas-docs/stable/user_guide/indexing.html#returning-a-view-versus-a-copy\n",
      "  df['year'] = year\n"
     ]
    },
    {
     "name": "stdout",
     "output_type": "stream",
     "text": [
      "\n",
      "\n",
      "Data dimensions:\n",
      "(362931, 19)\n"
     ]
    },
    {
     "name": "stderr",
     "output_type": "stream",
     "text": [
      "C:\\Users\\nhien\\AppData\\Local\\Temp\\ipykernel_4188\\189969246.py:11: DtypeWarning: Columns (0) have mixed types. Specify dtype option on import or set low_memory=False.\n",
      "  df = pd.read_csv(filepath, encoding='ISO-8859-1')\n",
      "C:\\Users\\nhien\\AppData\\Local\\Temp\\ipykernel_4188\\2715301845.py:15: SettingWithCopyWarning: \n",
      "A value is trying to be set on a copy of a slice from a DataFrame.\n",
      "Try using .loc[row_indexer,col_indexer] = value instead\n",
      "\n",
      "See the caveats in the documentation: https://pandas.pydata.org/pandas-docs/stable/user_guide/indexing.html#returning-a-view-versus-a-copy\n",
      "  df['year'] = year\n"
     ]
    },
    {
     "name": "stdout",
     "output_type": "stream",
     "text": [
      "\n",
      "\n",
      "Data dimensions:\n",
      "(360443, 20)\n"
     ]
    },
    {
     "name": "stderr",
     "output_type": "stream",
     "text": [
      "C:\\Users\\nhien\\AppData\\Local\\Temp\\ipykernel_4188\\189969246.py:11: DtypeWarning: Columns (0) have mixed types. Specify dtype option on import or set low_memory=False.\n",
      "  df = pd.read_csv(filepath, encoding='ISO-8859-1')\n",
      "C:\\Users\\nhien\\AppData\\Local\\Temp\\ipykernel_4188\\2715301845.py:15: SettingWithCopyWarning: \n",
      "A value is trying to be set on a copy of a slice from a DataFrame.\n",
      "Try using .loc[row_indexer,col_indexer] = value instead\n",
      "\n",
      "See the caveats in the documentation: https://pandas.pydata.org/pandas-docs/stable/user_guide/indexing.html#returning-a-view-versus-a-copy\n",
      "  df['year'] = year\n"
     ]
    },
    {
     "name": "stdout",
     "output_type": "stream",
     "text": [
      "\n",
      "\n",
      "Data dimensions:\n",
      "(370746, 21)\n"
     ]
    },
    {
     "name": "stderr",
     "output_type": "stream",
     "text": [
      "C:\\Users\\nhien\\AppData\\Local\\Temp\\ipykernel_4188\\2715301845.py:36: FutureWarning: Setting an item of incompatible dtype is deprecated and will raise an error in a future version of pandas. Value '[4 4 4 ... 4 4 4]' has dtype incompatible with float64, please explicitly cast to a compatible dtype first.\n",
      "  health_deficiency.loc[health_deficiency['year'] == 2021, 'scope_num'] = health_deficiency['scope']\n"
     ]
    }
   ],
   "source": [
    "\n",
    "\n",
    "def process_health_deficiencies_csv(df, year):\n",
    "    \"\"\"Processes health deficiencies CSV files.\"\"\"\n",
    "    required_cols = [\"provnum\", \"scope\"]\n",
    "    \n",
    "    df.columns = df.columns.str.lower().str.strip()\n",
    "    \n",
    "    if year >= 2020:\n",
    "        column_mapping = {\n",
    "            \"federal provider number\": \"provnum\", \n",
    "            \"scope severity code\": \"scope\"\n",
    "        }\n",
    "        df.rename(columns=column_mapping, inplace=True)\n",
    "    \n",
    "    df = df[required_cols]\n",
    "    df['year'] = year\n",
    "    return df\n",
    "\n",
    "\n",
    "# Process health deficiencies data\n",
    "health_deficiency_dfs = []\n",
    "for year, file in zip(range(2015, 2022), health_deficiency_files):\n",
    "    filepath = os.path.join(base_path, file)\n",
    "    df = data_explore(filepath)\n",
    "    if df is not None:\n",
    "        health_deficiency_dfs.append(process_health_deficiencies_csv(df, year))\n",
    "\n",
    "# Union\n",
    "health_deficiency = pd.concat(health_deficiency_dfs, ignore_index=True)\n",
    "\n",
    "# Add pk for database primary key (provnum & year are foreign keys)\n",
    "health_deficiency['pk'] = range(1, len(health_deficiency) + 1)\n",
    "\n",
    "# Encode HD score to number\n",
    "scope_mapping = {chr(65 + i): i + 1 for i in range(12)}\n",
    "health_deficiency['scope_num'] = health_deficiency['scope'].map(scope_mapping)\n",
    "health_deficiency.loc[health_deficiency['year'] == 2021, 'scope_num'] = health_deficiency['scope']\n",
    "\n",
    "# Ensure provnum is char(6) datatype\n",
    "health_deficiency['provnum'] = health_deficiency['provnum'].astype(str).str.zfill(6)\n"
   ]
  },
  {
   "cell_type": "code",
   "execution_count": null,
   "metadata": {},
   "outputs": [],
   "source": [
    "# # check\n",
    "# print(health_deficiency.shape)\n",
    "# print(provider_info.info())\n",
    "# print(health_deficiency.isnull().sum())"
   ]
  },
  {
   "cell_type": "markdown",
   "metadata": {},
   "source": [
    "## quality"
   ]
  },
  {
   "cell_type": "code",
   "execution_count": 6,
   "metadata": {},
   "outputs": [
    {
     "name": "stderr",
     "output_type": "stream",
     "text": [
      "C:\\Users\\nhien\\AppData\\Local\\Temp\\ipykernel_4188\\189969246.py:11: DtypeWarning: Columns (0) have mixed types. Specify dtype option on import or set low_memory=False.\n",
      "  df = pd.read_csv(filepath, encoding='ISO-8859-1')\n",
      "C:\\Users\\nhien\\AppData\\Local\\Temp\\ipykernel_4188\\549907532.py:22: SettingWithCopyWarning: \n",
      "A value is trying to be set on a copy of a slice from a DataFrame.\n",
      "Try using .loc[row_indexer,col_indexer] = value instead\n",
      "\n",
      "See the caveats in the documentation: https://pandas.pydata.org/pandas-docs/stable/user_guide/indexing.html#returning-a-view-versus-a-copy\n",
      "  df['year'] = year\n"
     ]
    },
    {
     "name": "stdout",
     "output_type": "stream",
     "text": [
      "\n",
      "\n",
      "Data dimensions:\n",
      "(281898, 22)\n"
     ]
    },
    {
     "name": "stderr",
     "output_type": "stream",
     "text": [
      "C:\\Users\\nhien\\AppData\\Local\\Temp\\ipykernel_4188\\189969246.py:11: DtypeWarning: Columns (0) have mixed types. Specify dtype option on import or set low_memory=False.\n",
      "  df = pd.read_csv(filepath, encoding='ISO-8859-1')\n",
      "C:\\Users\\nhien\\AppData\\Local\\Temp\\ipykernel_4188\\549907532.py:22: SettingWithCopyWarning: \n",
      "A value is trying to be set on a copy of a slice from a DataFrame.\n",
      "Try using .loc[row_indexer,col_indexer] = value instead\n",
      "\n",
      "See the caveats in the documentation: https://pandas.pydata.org/pandas-docs/stable/user_guide/indexing.html#returning-a-view-versus-a-copy\n",
      "  df['year'] = year\n"
     ]
    },
    {
     "name": "stdout",
     "output_type": "stream",
     "text": [
      "\n",
      "\n",
      "Data dimensions:\n",
      "(328671, 25)\n"
     ]
    },
    {
     "name": "stderr",
     "output_type": "stream",
     "text": [
      "C:\\Users\\nhien\\AppData\\Local\\Temp\\ipykernel_4188\\189969246.py:11: DtypeWarning: Columns (0) have mixed types. Specify dtype option on import or set low_memory=False.\n",
      "  df = pd.read_csv(filepath, encoding='ISO-8859-1')\n",
      "C:\\Users\\nhien\\AppData\\Local\\Temp\\ipykernel_4188\\549907532.py:22: SettingWithCopyWarning: \n",
      "A value is trying to be set on a copy of a slice from a DataFrame.\n",
      "Try using .loc[row_indexer,col_indexer] = value instead\n",
      "\n",
      "See the caveats in the documentation: https://pandas.pydata.org/pandas-docs/stable/user_guide/indexing.html#returning-a-view-versus-a-copy\n",
      "  df['year'] = year\n"
     ]
    },
    {
     "name": "stdout",
     "output_type": "stream",
     "text": [
      "\n",
      "\n",
      "Data dimensions:\n",
      "(328566, 25)\n",
      "\n",
      "\n",
      "Data dimensions:\n",
      "(327516, 25)\n"
     ]
    },
    {
     "name": "stderr",
     "output_type": "stream",
     "text": [
      "C:\\Users\\nhien\\AppData\\Local\\Temp\\ipykernel_4188\\549907532.py:22: SettingWithCopyWarning: \n",
      "A value is trying to be set on a copy of a slice from a DataFrame.\n",
      "Try using .loc[row_indexer,col_indexer] = value instead\n",
      "\n",
      "See the caveats in the documentation: https://pandas.pydata.org/pandas-docs/stable/user_guide/indexing.html#returning-a-view-versus-a-copy\n",
      "  df['year'] = year\n"
     ]
    },
    {
     "name": "stdout",
     "output_type": "stream",
     "text": [
      "\n",
      "\n",
      "Data dimensions:\n",
      "(293949, 22)\n"
     ]
    },
    {
     "name": "stderr",
     "output_type": "stream",
     "text": [
      "C:\\Users\\nhien\\AppData\\Local\\Temp\\ipykernel_4188\\549907532.py:22: SettingWithCopyWarning: \n",
      "A value is trying to be set on a copy of a slice from a DataFrame.\n",
      "Try using .loc[row_indexer,col_indexer] = value instead\n",
      "\n",
      "See the caveats in the documentation: https://pandas.pydata.org/pandas-docs/stable/user_guide/indexing.html#returning-a-view-versus-a-copy\n",
      "  df['year'] = year\n",
      "C:\\Users\\nhien\\AppData\\Local\\Temp\\ipykernel_4188\\189969246.py:11: DtypeWarning: Columns (0) have mixed types. Specify dtype option on import or set low_memory=False.\n",
      "  df = pd.read_csv(filepath, encoding='ISO-8859-1')\n",
      "C:\\Users\\nhien\\AppData\\Local\\Temp\\ipykernel_4188\\549907532.py:22: SettingWithCopyWarning: \n",
      "A value is trying to be set on a copy of a slice from a DataFrame.\n",
      "Try using .loc[row_indexer,col_indexer] = value instead\n",
      "\n",
      "See the caveats in the documentation: https://pandas.pydata.org/pandas-docs/stable/user_guide/indexing.html#returning-a-view-versus-a-copy\n",
      "  df['year'] = year\n"
     ]
    },
    {
     "name": "stdout",
     "output_type": "stream",
     "text": [
      "\n",
      "\n",
      "Data dimensions:\n",
      "(276264, 23)\n"
     ]
    },
    {
     "name": "stderr",
     "output_type": "stream",
     "text": [
      "C:\\Users\\nhien\\AppData\\Local\\Temp\\ipykernel_4188\\189969246.py:11: DtypeWarning: Columns (0) have mixed types. Specify dtype option on import or set low_memory=False.\n",
      "  df = pd.read_csv(filepath, encoding='ISO-8859-1')\n",
      "C:\\Users\\nhien\\AppData\\Local\\Temp\\ipykernel_4188\\549907532.py:22: SettingWithCopyWarning: \n",
      "A value is trying to be set on a copy of a slice from a DataFrame.\n",
      "Try using .loc[row_indexer,col_indexer] = value instead\n",
      "\n",
      "See the caveats in the documentation: https://pandas.pydata.org/pandas-docs/stable/user_guide/indexing.html#returning-a-view-versus-a-copy\n",
      "  df['year'] = year\n"
     ]
    },
    {
     "name": "stdout",
     "output_type": "stream",
     "text": [
      "\n",
      "\n",
      "Data dimensions:\n",
      "(274752, 23)\n"
     ]
    }
   ],
   "source": [
    "def process_qa_csv(df, year):\n",
    "    \"\"\"Processes quality measure MDS CSV files.\"\"\"\n",
    "    required_cols = [\"provnum\", \"msr_cd\", \"msr_descr\", \"avg_score\"]\n",
    "    \n",
    "    df.columns = df.columns.str.lower().str.strip()\n",
    "    \n",
    "    if year < 2020:\n",
    "        if year == 2015:\n",
    "            df.rename(columns={\"measure_score_3qtr_avg\": \"avg_score\"}, inplace=True)\n",
    "        else:\n",
    "            df.rename(columns={\"measure_score_4qtr_avg\": \"avg_score\"}, inplace=True)\n",
    "    else:\n",
    "        column_mapping = {\n",
    "            \"federal provider number\": \"provnum\", \n",
    "            \"measure code\": \"msr_cd\",\n",
    "            \"measure description\": \"msr_descr\",\n",
    "            \"four quarter average score\": \"avg_score\"\n",
    "        }\n",
    "        df.rename(columns=column_mapping, inplace=True)\n",
    "    \n",
    "    df = df[required_cols]\n",
    "    df['year'] = year\n",
    "    return df\n",
    "\n",
    "\n",
    "# Process quality data\n",
    "quality_dfs = []\n",
    "for year, file in zip(range(2015, 2022), quality_files):\n",
    "    filepath = os.path.join(base_path, file)\n",
    "    df = data_explore(filepath)\n",
    "    if df is not None:\n",
    "        quality_dfs.append(process_qa_csv(df, year))\n",
    "\n",
    "# Union\n",
    "quality = pd.concat(quality_dfs, ignore_index=True)\n",
    "\n",
    "# Add pk for database primary key (provnum & year are foreign keys)\n",
    "quality['pk'] = range(1, len(quality) + 1)\n",
    "\n",
    "# Ensure provnum is char(6) datatype\n",
    "quality['provnum'] = quality['provnum'].astype(str).str.zfill(6)\n",
    "\n"
   ]
  },
  {
   "cell_type": "code",
   "execution_count": null,
   "metadata": {},
   "outputs": [],
   "source": [
    "# # check\n",
    "# print(quality.shape)\n",
    "# print(quality.info())\n",
    "# print(quality.isnull().sum())"
   ]
  },
  {
   "cell_type": "markdown",
   "metadata": {},
   "source": [
    "## penalty"
   ]
  },
  {
   "cell_type": "code",
   "execution_count": 7,
   "metadata": {},
   "outputs": [
    {
     "name": "stdout",
     "output_type": "stream",
     "text": [
      "\n",
      "\n",
      "Data dimensions:\n",
      "(6478, 12)\n",
      "\n",
      "\n",
      "Data dimensions:\n",
      "(6817, 12)\n",
      "\n",
      "\n",
      "Data dimensions:\n",
      "(7598, 12)\n",
      "\n",
      "\n",
      "Data dimensions:\n",
      "(8742, 12)\n",
      "\n",
      "\n",
      "Data dimensions:\n",
      "(9067, 12)\n",
      "\n",
      "\n",
      "Data dimensions:\n",
      "(6640, 13)\n",
      "\n",
      "\n",
      "Data dimensions:\n",
      "(26146, 13)\n"
     ]
    },
    {
     "name": "stderr",
     "output_type": "stream",
     "text": [
      "C:\\Users\\nhien\\AppData\\Local\\Temp\\ipykernel_4188\\3280089103.py:17: SettingWithCopyWarning: \n",
      "A value is trying to be set on a copy of a slice from a DataFrame.\n",
      "Try using .loc[row_indexer,col_indexer] = value instead\n",
      "\n",
      "See the caveats in the documentation: https://pandas.pydata.org/pandas-docs/stable/user_guide/indexing.html#returning-a-view-versus-a-copy\n",
      "  df['year'] = year\n",
      "C:\\Users\\nhien\\AppData\\Local\\Temp\\ipykernel_4188\\3280089103.py:17: SettingWithCopyWarning: \n",
      "A value is trying to be set on a copy of a slice from a DataFrame.\n",
      "Try using .loc[row_indexer,col_indexer] = value instead\n",
      "\n",
      "See the caveats in the documentation: https://pandas.pydata.org/pandas-docs/stable/user_guide/indexing.html#returning-a-view-versus-a-copy\n",
      "  df['year'] = year\n",
      "C:\\Users\\nhien\\AppData\\Local\\Temp\\ipykernel_4188\\3280089103.py:17: SettingWithCopyWarning: \n",
      "A value is trying to be set on a copy of a slice from a DataFrame.\n",
      "Try using .loc[row_indexer,col_indexer] = value instead\n",
      "\n",
      "See the caveats in the documentation: https://pandas.pydata.org/pandas-docs/stable/user_guide/indexing.html#returning-a-view-versus-a-copy\n",
      "  df['year'] = year\n",
      "C:\\Users\\nhien\\AppData\\Local\\Temp\\ipykernel_4188\\3280089103.py:17: SettingWithCopyWarning: \n",
      "A value is trying to be set on a copy of a slice from a DataFrame.\n",
      "Try using .loc[row_indexer,col_indexer] = value instead\n",
      "\n",
      "See the caveats in the documentation: https://pandas.pydata.org/pandas-docs/stable/user_guide/indexing.html#returning-a-view-versus-a-copy\n",
      "  df['year'] = year\n",
      "C:\\Users\\nhien\\AppData\\Local\\Temp\\ipykernel_4188\\3280089103.py:17: SettingWithCopyWarning: \n",
      "A value is trying to be set on a copy of a slice from a DataFrame.\n",
      "Try using .loc[row_indexer,col_indexer] = value instead\n",
      "\n",
      "See the caveats in the documentation: https://pandas.pydata.org/pandas-docs/stable/user_guide/indexing.html#returning-a-view-versus-a-copy\n",
      "  df['year'] = year\n",
      "C:\\Users\\nhien\\AppData\\Local\\Temp\\ipykernel_4188\\3280089103.py:17: SettingWithCopyWarning: \n",
      "A value is trying to be set on a copy of a slice from a DataFrame.\n",
      "Try using .loc[row_indexer,col_indexer] = value instead\n",
      "\n",
      "See the caveats in the documentation: https://pandas.pydata.org/pandas-docs/stable/user_guide/indexing.html#returning-a-view-versus-a-copy\n",
      "  df['year'] = year\n",
      "C:\\Users\\nhien\\AppData\\Local\\Temp\\ipykernel_4188\\3280089103.py:17: SettingWithCopyWarning: \n",
      "A value is trying to be set on a copy of a slice from a DataFrame.\n",
      "Try using .loc[row_indexer,col_indexer] = value instead\n",
      "\n",
      "See the caveats in the documentation: https://pandas.pydata.org/pandas-docs/stable/user_guide/indexing.html#returning-a-view-versus-a-copy\n",
      "  df['year'] = year\n"
     ]
    }
   ],
   "source": [
    "def process_pe_csv(df, year):\n",
    "    \"\"\"Processes penalties CSV files.\"\"\"\n",
    "    required_cols = [\"provnum\", \"pnlty_type\", \"fine_amt\", \"payden_days\"]\n",
    "    \n",
    "    df.columns = df.columns.str.lower().str.strip()\n",
    "    \n",
    "    if year >= 2020:\n",
    "        column_mapping = {\n",
    "            \"federal provider number\": \"provnum\", \n",
    "            \"penalty type\": \"pnlty_type\",\n",
    "            \"fine amount\": \"fine_amt\",\n",
    "            \"payment denial length in days\": \"payden_days\"\n",
    "        }\n",
    "        df.rename(columns=column_mapping, inplace=True)\n",
    "    \n",
    "    df = df[required_cols]\n",
    "    df['year'] = year\n",
    "    return df\n",
    "\n",
    "# Process penalties data\n",
    "penalties_dfs = []\n",
    "for year, file in zip(range(2015, 2022), penalties_files):\n",
    "    filepath = os.path.join(base_path, file)\n",
    "    df = data_explore(filepath)\n",
    "    if df is not None:\n",
    "        penalties_dfs.append(process_pe_csv(df, year))\n",
    "\n",
    "# Union\n",
    "penalties = pd.concat(penalties_dfs, ignore_index=True)\n",
    "\n",
    "# Add pk for database primary key (provnum & year are foreign keys)\n",
    "penalties['pk'] = range(1, len(penalties) + 1)\n",
    "\n",
    "# Ensure provnum is char(6) datatype\n",
    "penalties['provnum'] = penalties['provnum'].astype(str).str.zfill(6)\n"
   ]
  },
  {
   "cell_type": "code",
   "execution_count": null,
   "metadata": {},
   "outputs": [],
   "source": [
    "# # check\n",
    "# print(penalties.shape)\n",
    "# print(penalties.info())\n",
    "# print(penalties.isnull().sum())"
   ]
  },
  {
   "cell_type": "markdown",
   "metadata": {},
   "source": [
    "## cost_report\n",
    "\n",
    "### clean & union"
   ]
  },
  {
   "cell_type": "code",
   "execution_count": 8,
   "metadata": {},
   "outputs": [
    {
     "name": "stderr",
     "output_type": "stream",
     "text": [
      "C:\\Users\\nhien\\AppData\\Local\\Temp\\ipykernel_4188\\189969246.py:11: DtypeWarning: Columns (8) have mixed types. Specify dtype option on import or set low_memory=False.\n",
      "  df = pd.read_csv(filepath, encoding='ISO-8859-1')\n"
     ]
    },
    {
     "name": "stdout",
     "output_type": "stream",
     "text": [
      "\n",
      "\n",
      "Data dimensions:\n",
      "(15402, 74)\n",
      "\n",
      "\n",
      "Data dimensions:\n",
      "(15104, 74)\n",
      "\n",
      "\n",
      "Data dimensions:\n",
      "(15433, 74)\n",
      "\n",
      "\n",
      "Data dimensions:\n",
      "(15142, 74)\n",
      "\n",
      "\n",
      "Data dimensions:\n",
      "(15182, 74)\n",
      "\n",
      "\n",
      "Data dimensions:\n",
      "(14949, 122)\n",
      "\n",
      "\n",
      "Data dimensions:\n",
      "(15057, 122)\n"
     ]
    },
    {
     "name": "stderr",
     "output_type": "stream",
     "text": [
      "C:\\Users\\nhien\\AppData\\Local\\Temp\\ipykernel_4188\\3853354867.py:132: SettingWithCopyWarning: \n",
      "A value is trying to be set on a copy of a slice from a DataFrame.\n",
      "Try using .loc[row_indexer,col_indexer] = value instead\n",
      "\n",
      "See the caveats in the documentation: https://pandas.pydata.org/pandas-docs/stable/user_guide/indexing.html#returning-a-view-versus-a-copy\n",
      "  cr_2015['year'] = 2015\n",
      "C:\\Users\\nhien\\AppData\\Local\\Temp\\ipykernel_4188\\3853354867.py:133: SettingWithCopyWarning: \n",
      "A value is trying to be set on a copy of a slice from a DataFrame.\n",
      "Try using .loc[row_indexer,col_indexer] = value instead\n",
      "\n",
      "See the caveats in the documentation: https://pandas.pydata.org/pandas-docs/stable/user_guide/indexing.html#returning-a-view-versus-a-copy\n",
      "  cr_2016['year'] = 2016\n",
      "C:\\Users\\nhien\\AppData\\Local\\Temp\\ipykernel_4188\\3853354867.py:134: SettingWithCopyWarning: \n",
      "A value is trying to be set on a copy of a slice from a DataFrame.\n",
      "Try using .loc[row_indexer,col_indexer] = value instead\n",
      "\n",
      "See the caveats in the documentation: https://pandas.pydata.org/pandas-docs/stable/user_guide/indexing.html#returning-a-view-versus-a-copy\n",
      "  cr_2017['year'] = 2017\n",
      "C:\\Users\\nhien\\AppData\\Local\\Temp\\ipykernel_4188\\3853354867.py:135: SettingWithCopyWarning: \n",
      "A value is trying to be set on a copy of a slice from a DataFrame.\n",
      "Try using .loc[row_indexer,col_indexer] = value instead\n",
      "\n",
      "See the caveats in the documentation: https://pandas.pydata.org/pandas-docs/stable/user_guide/indexing.html#returning-a-view-versus-a-copy\n",
      "  cr_2018['year'] = 2018\n",
      "C:\\Users\\nhien\\AppData\\Local\\Temp\\ipykernel_4188\\3853354867.py:136: SettingWithCopyWarning: \n",
      "A value is trying to be set on a copy of a slice from a DataFrame.\n",
      "Try using .loc[row_indexer,col_indexer] = value instead\n",
      "\n",
      "See the caveats in the documentation: https://pandas.pydata.org/pandas-docs/stable/user_guide/indexing.html#returning-a-view-versus-a-copy\n",
      "  cr_2019['year'] = 2019\n",
      "C:\\Users\\nhien\\AppData\\Local\\Temp\\ipykernel_4188\\3853354867.py:137: SettingWithCopyWarning: \n",
      "A value is trying to be set on a copy of a slice from a DataFrame.\n",
      "Try using .loc[row_indexer,col_indexer] = value instead\n",
      "\n",
      "See the caveats in the documentation: https://pandas.pydata.org/pandas-docs/stable/user_guide/indexing.html#returning-a-view-versus-a-copy\n",
      "  cr_2020['year'] = 2020\n",
      "C:\\Users\\nhien\\AppData\\Local\\Temp\\ipykernel_4188\\3853354867.py:138: SettingWithCopyWarning: \n",
      "A value is trying to be set on a copy of a slice from a DataFrame.\n",
      "Try using .loc[row_indexer,col_indexer] = value instead\n",
      "\n",
      "See the caveats in the documentation: https://pandas.pydata.org/pandas-docs/stable/user_guide/indexing.html#returning-a-view-versus-a-copy\n",
      "  cr_2021['year'] = 2021\n"
     ]
    }
   ],
   "source": [
    "CostReport_2015= data_explore(\"C:/Users/nhien/Downloads/HI/2015_CostReport.csv\")\n",
    "CostReport_2016= data_explore(\"C:/Users/nhien/Downloads/HI/2016_CostReport.csv\")\n",
    "CostReport_2017= data_explore(\"C:/Users/nhien/Downloads/HI/2017_CostReport.csv\")\n",
    "CostReport_2018= data_explore(\"C:/Users/nhien/Downloads/HI/2018_CostReport.csv\")\n",
    "CostReport_2019= data_explore(\"C:/Users/nhien/Downloads/HI/2019_CostReport.csv\")\n",
    "CostReport_2020= data_explore(\"C:/Users/nhien/Downloads/HI/2020_CostReport.csv\")\n",
    "CostReport_2021= data_explore(\"C:/Users/nhien/Downloads/HI/2021_CostReport.csv\")\n",
    "\n",
    "def process_cr(df):\n",
    "  \n",
    "    # Ensure provnum is char(6)\n",
    "    df['Provider_CCN']=df['Provider_CCN'].astype(str).str.zfill(6) \n",
    "\n",
    "    # Fiscal year is char so adding a\"Date_Difference\" columnn to account for later\n",
    "    df['Fiscal_Year_Begin_Date'] = pd.to_datetime(df['Fiscal_Year_Begin_Date'])\n",
    "    df['Fiscal_Year_End_Date'] = pd.to_datetime(df['Fiscal_Year_End_Date'])\n",
    "    # Calculate date difference for each row\n",
    "    df['fiscal_period'] = (df['Fiscal_Year_End_Date'] - df['Fiscal_Year_Begin_Date']).dt.days\n",
    "\n",
    "    required_cols = ['provnum',\n",
    "                     'rural_versus_urban',\n",
    "                     'accounts_receivable',\n",
    "                     'cash_on_hand_and_in_banks',\n",
    "                     'gross_revenue',\n",
    "                     'inpatient_revenue',\n",
    "                     'less_total_operating_expense',\n",
    "                     'net_income',\n",
    "                     'net_income_from_patients',\n",
    "                     'net_patient_revenue',\n",
    "                     'overhead_non_salary_costs',\n",
    "                     'snf_days_total',\n",
    "                     'salaries_wages_and_fees_payable',\n",
    "                     'total_liab_and_fund_balances',\n",
    "                     'total_salaries_adjusted',\n",
    "                     'total_fund_balances',\n",
    "                     'total_liabilities',                     \n",
    "                     'snf_admissions_total',\n",
    "                     'fiscal_period']\n",
    "    \n",
    "    # Convert column names to lowercase\n",
    "    df.columns = [col.lower() for col in df.columns]\n",
    "    \n",
    "        # Define column mapping\n",
    "    column_mapping = {\n",
    "        \"provider_ccn\": \"provnum\" \n",
    "    }\n",
    "    \n",
    "   # Rename columns based on mapping\n",
    "    df.rename(columns=column_mapping, inplace=True)\n",
    "\n",
    "    # Keep only the required columns\n",
    "    df = df[required_cols]\n",
    "   \n",
    "    return df\n",
    "\n",
    "\n",
    "# Process the 2015-2019 files\n",
    "cr_2015 = process_cr(CostReport_2015)\n",
    "cr_2016 = process_cr(CostReport_2016)\n",
    "cr_2017 = process_cr(CostReport_2017)\n",
    "cr_2018 = process_cr(CostReport_2018)\n",
    "cr_2019 = process_cr(CostReport_2019)\n",
    "\n",
    "def process_cr(df):\n",
    "  \n",
    "\n",
    "\n",
    "    # Fiscal year is char so adding a\"Date_Difference\" columnn to account for later\n",
    "    df['Fiscal Year Begin Date'] = pd.to_datetime(df['Fiscal Year Begin Date'])\n",
    "    df['Fiscal Year End Date'] = pd.to_datetime(df['Fiscal Year End Date'])\n",
    "    # Calculate date difference for each row\n",
    "    df['fiscal_period'] = (df['Fiscal Year End Date'] - df['Fiscal Year Begin Date']).dt.days\n",
    "\n",
    "    required_cols = ['provnum',\n",
    "                     'rural_versus_urban',\n",
    "                     'accounts_receivable',\n",
    "                     'cash_on_hand_and_in_banks',\n",
    "                     'gross_revenue',\n",
    "                     'inpatient_revenue',\n",
    "                     'less_total_operating_expense',\n",
    "                     'net_income',\n",
    "                     'net_income_from_patients',\n",
    "                     'net_patient_revenue',\n",
    "                     'overhead_non_salary_costs',\n",
    "                     'snf_days_total',\n",
    "                     'salaries_wages_and_fees_payable',\n",
    "                     'total_liab_and_fund_balances',\n",
    "                     'total_salaries_adjusted',\n",
    "                     'total_fund_balances',\n",
    "                     'total_liabilities',\n",
    "                     'snf_admissions_total',\n",
    "                     'fiscal_period']\n",
    "    \n",
    "    # Define column mapping\n",
    "    column_mapping = {\n",
    "            'provider ccn':'provnum',\n",
    "            'rural versus urban':'rural_versus_urban',\n",
    "            'accounts receivable':'accounts_receivable',\n",
    "            'cash on hand and in banks':'cash_on_hand_and_in_banks',\n",
    "            'gross revenue':'gross_revenue',\n",
    "            'inpatient revenue':'inpatient_revenue',\n",
    "            'less total operating expense':'less_total_operating_expense',\n",
    "            'net income':'net_income',\n",
    "            'net income from service to patients':'net_income_from_patients',\n",
    "            'net patient revenue':'net_patient_revenue',\n",
    "            'overhead non-salary costs':'overhead_non_salary_costs',\n",
    "            'snf days total':'snf_days_total',\n",
    "            'salaries, wages, and fees payable':'salaries_wages_and_fees_payable',\n",
    "            'total liabilities and fund balances':'total_liab_and_fund_balances',\n",
    "            'total salaries (adjusted)':'total_salaries_adjusted',\n",
    "            'total fund balances':'total_fund_balances',\n",
    "            'total liabilities':'total_liabilities',\n",
    "            'nf admissions total':'snf_admissions_total'        \n",
    "    }\n",
    "    # Convert column names to lowercase\n",
    "    df.columns = [col.lower() for col in df.columns]\n",
    "   # Rename columns based on mapping\n",
    "    df.rename(columns=column_mapping, inplace=True)\n",
    "    \n",
    "    # Ensure provnum is char(6)\n",
    "    df['provnum']=df['provnum'].astype(str).str.zfill(6) \n",
    "\n",
    "    # Keep only the required columns\n",
    "    df = df[required_cols]\n",
    "   \n",
    "    return df\n",
    "\n",
    "cr_2020 = process_cr(CostReport_2020)\n",
    "cr_2021 = process_cr(CostReport_2021)\n",
    "\n",
    "# Add a year column to each dataset\n",
    "cr_2015['year'] = 2015\n",
    "cr_2016['year'] = 2016\n",
    "cr_2017['year'] = 2017\n",
    "cr_2018['year'] = 2018\n",
    "cr_2019['year'] = 2019\n",
    "cr_2020['year'] = 2020\n",
    "cr_2021['year'] = 2021\n",
    "\n",
    "# Concatenate all datasets into a single dataframe\n",
    "cost_report = pd.concat([\n",
    "    cr_2015, \n",
    "    cr_2016, \n",
    "    cr_2017, \n",
    "    cr_2018,\n",
    "    cr_2019, \n",
    "    cr_2020, \n",
    "    cr_2021], ignore_index=True)\n",
    "\n",
    "\n"
   ]
  },
  {
   "cell_type": "code",
   "execution_count": null,
   "metadata": {},
   "outputs": [],
   "source": [
    "# # check\n",
    "# cost_report.shape\n",
    "# cost_report.isnull().sum()\n",
    "# cost_report['year'].value_counts()\n",
    "# cost_report.isnull().sum()"
   ]
  },
  {
   "cell_type": "markdown",
   "metadata": {},
   "source": [
    "### annualize data\n",
    "Since a provnum can have many cost reports a year, the following code annualize the numbers"
   ]
  },
  {
   "cell_type": "code",
   "execution_count": null,
   "metadata": {},
   "outputs": [
    {
     "name": "stderr",
     "output_type": "stream",
     "text": [
      "C:\\Users\\nhien\\AppData\\Local\\Temp\\ipykernel_4188\\762935218.py:10: SettingWithCopyWarning: \n",
      "A value is trying to be set on a copy of a slice from a DataFrame.\n",
      "Try using .loc[row_indexer,col_indexer] = value instead\n",
      "\n",
      "See the caveats in the documentation: https://pandas.pydata.org/pandas-docs/stable/user_guide/indexing.html#returning-a-view-versus-a-copy\n",
      "  cost_report[col] = (cost_report[col] / cost_report['fiscal_period']) * 365\n"
     ]
    }
   ],
   "source": [
    "\n",
    "import pandas as pd\n",
    "import numpy as np\n",
    "\n",
    "def create_annual_cost_report(cost_report: pd.DataFrame) -> pd.DataFrame:\n",
    "    \"\"\"Creates an annual cost report with NaN handling during aggregation.\"\"\"\n",
    "    columns_to_adjust = cost_report.columns[2:18]\n",
    "    cost_report = cost_report[cost_report['fiscal_period'] > 0]\n",
    "\n",
    "    for col in columns_to_adjust:\n",
    "        cost_report[col] = (cost_report[col] / cost_report['fiscal_period']) * 365\n",
    "\n",
    "    # Custom aggregation function to handle NaNs correctly to prevent accidental row drop:\n",
    "    # if there are NaN cells in any field belonging to 1 provnum-year group, average cells that are not NaN;\n",
    "    # if all cells of that field are NaN, return NaN.\n",
    "    def nan_aware_mean(series):\n",
    "        if series.isnull().all():\n",
    "            return np.nan\n",
    "        else:\n",
    "            return series.mean()\n",
    "\n",
    "    # Group and aggregate, using nan_aware_mean\n",
    "    agg_dict = {col: nan_aware_mean for col in columns_to_adjust}\n",
    "    agg_dict['rural_versus_urban'] = 'first'\n",
    "\n",
    "    annual_report = cost_report.groupby(['provnum', 'year']).agg(agg_dict).reset_index()\n",
    "\n",
    "    return annual_report\n",
    "\n",
    "annual_report = create_annual_cost_report(cost_report)\n"
   ]
  },
  {
   "cell_type": "code",
   "execution_count": null,
   "metadata": {},
   "outputs": [],
   "source": [
    "# # check\n",
    "# print(annual_report.shape)\n",
    "# annual_report['year'].value_counts()\n",
    "# annual_report.info()"
   ]
  },
  {
   "cell_type": "markdown",
   "metadata": {},
   "source": [
    "If fiscal_period is null, all numerical variables of that row is also null. Therefore, it is safe to drop them in the code above:\n",
    "```\n",
    "    cost_report = cost_report[cost_report['fiscal_period'] > 0]\n",
    "```\n",
    "The following code proves so. Since they are not essential for data cleansing, they are commented out. Uncomment to see the results."
   ]
  },
  {
   "cell_type": "code",
   "execution_count": null,
   "metadata": {},
   "outputs": [],
   "source": [
    "# # Show rows wih null fiscal_period\n",
    "# cost_report[cost_report['fiscal_period'].isnull()]\n",
    "\n",
    "# # Define numerical columns (cols 2–16) — adjust this if needed\n",
    "# columns_to_adjust = cost_report.columns[2:18]\n",
    "\n",
    "# # 1. Count nulls before filtering\n",
    "# nulls_before = cost_report[columns_to_adjust].isnull().sum()\n",
    "\n",
    "# # 2. Remove rows with invalid fiscal_period\n",
    "# filtered_cost_report = cost_report.dropna(subset=['fiscal_period'])\n",
    "# filtered_cost_report = filtered_cost_report[filtered_cost_report['fiscal_period'] > 0]\n",
    "\n",
    "# # 3. Count nulls after filtering\n",
    "# nulls_after = filtered_cost_report[columns_to_adjust].isnull().sum()\n",
    "\n",
    "# # 4. Calculate difference\n",
    "# nulls_removed_with_fiscal_period = nulls_before - nulls_after\n",
    "\n",
    "# # Display comparison\n",
    "# comparison_df = pd.DataFrame({\n",
    "#     'Nulls Before': nulls_before,\n",
    "#     'Nulls After': nulls_after,\n",
    "#     'Difference (Removed Nulls)': nulls_removed_with_fiscal_period\n",
    "# })\n",
    "\n",
    "# print(comparison_df)\n",
    "\n",
    "# # Optional: Total number of rows removed\n",
    "# rows_removed = cost_report.shape[0] - filtered_cost_report.shape[0]\n",
    "# print(f\"\\nTotal rows removed due to invalid fiscal_period: {rows_removed}\")\n",
    "\n"
   ]
  },
  {
   "cell_type": "markdown",
   "metadata": {},
   "source": [
    "The following code further proves that the new number of rows after annualization is valid. Uncomment to see. "
   ]
  },
  {
   "cell_type": "code",
   "execution_count": null,
   "metadata": {},
   "outputs": [],
   "source": [
    "# # 1. Unique provnum-year pairs in the original data\n",
    "# original_pairs = cost_report[['provnum', 'year']]\n",
    "# original_unique_pairs = original_pairs.dropna().drop_duplicates()\n",
    "# num_original_pairs = original_unique_pairs.shape[0]\n",
    "# print(f\"Original unique (provnum, year) pairs: {num_original_pairs}\")\n",
    "\n",
    "# # 2. Drop rows with bad fiscal_period and track which ones\n",
    "# filtered = cost_report.dropna(subset=['fiscal_period', 'year'])\n",
    "# filtered = filtered[filtered['fiscal_period'] > 0]\n",
    "\n",
    "# filtered_unique_pairs = filtered[['provnum', 'year']].drop_duplicates()\n",
    "# num_filtered_pairs = filtered_unique_pairs.shape[0]\n",
    "# print(f\"Remaining unique (provnum, year) pairs after valid fiscal_period filter: {num_filtered_pairs}\")\n",
    "\n",
    "# # 3. Confirm drop count\n",
    "# num_dropped = num_original_pairs - num_filtered_pairs\n",
    "# print(f\"Number of (provnum, year) combinations dropped: {num_dropped}\")\n",
    "\n",
    "# # 4. Optionally: Show which combinations were dropped\n",
    "# dropped_pairs = pd.merge(original_unique_pairs, filtered_unique_pairs, \n",
    "#                          on=['provnum', 'year'], how='left', indicator=True)\n",
    "# dropped_pairs = dropped_pairs[dropped_pairs['_merge'] == 'left_only']\n",
    "# print(f\"\\nSample dropped pairs due to invalid fiscal_period:\\n{dropped_pairs[['provnum', 'year']].head()}\")\n"
   ]
  },
  {
   "cell_type": "markdown",
   "metadata": {},
   "source": [
    "### cost_report_provider_info \n",
    "(join cost_report with provider_info & back-fill)"
   ]
  },
  {
   "cell_type": "code",
   "execution_count": 15,
   "metadata": {},
   "outputs": [
    {
     "name": "stdout",
     "output_type": "stream",
     "text": [
      "Number of rows in annual_report without matching provider_info by provnum & year: 306\n",
      "Total rows still unmatched by provnum: 36\n"
     ]
    }
   ],
   "source": [
    "def left_join_with_provider_info(annual_report: pd.DataFrame, provider_info: pd.DataFrame) -> pd.DataFrame:\n",
    "    \"\"\"Performs a left join with provider_info and counts missing rows.\"\"\"\n",
    "    merged = pd.merge(annual_report, provider_info, on=['provnum', 'year'], how='left')\n",
    "    provider_columns = [col for col in provider_info.columns if col not in ['provnum', 'year']]\n",
    "    missing_provider_info = merged[provider_columns].isnull().all(axis=1).sum()\n",
    "    print(f\"Number of rows in annual_report without matching provider_info by provnum & year: {missing_provider_info}\")\n",
    "    return merged\n",
    "\n",
    "merged_data = left_join_with_provider_info(annual_report, provider_info)\n",
    "\n",
    "def backfill_provider_info(merged_data: pd.DataFrame, provider_info: pd.DataFrame) -> pd.DataFrame:\n",
    "    \"\"\"Backfills missing provider_info using a lookup table.\"\"\"\n",
    "    provider_columns = [col for col in provider_info.columns if col not in ['provnum', 'year']]\n",
    "    provnum_lookup = provider_info.sort_values('year').drop_duplicates('provnum')[['provnum'] + provider_columns]\n",
    "    merged_with_lookup = pd.merge(merged_data, provnum_lookup, on='provnum', how='left', suffixes=('', '_lookup'))\n",
    "    for col in provider_columns:\n",
    "        merged_with_lookup[col] = merged_with_lookup[col].combine_first(merged_with_lookup[f\"{col}_lookup\"])\n",
    "        merged_with_lookup.drop(columns=[f\"{col}_lookup\"], inplace=True)\n",
    "    return merged_with_lookup\n",
    "\n",
    "merged_filled = backfill_provider_info(merged_data, provider_info)\n",
    "\n",
    "def get_unmatched_rows_by_provname(merged_data: pd.DataFrame) -> pd.DataFrame:\n",
    "    \"\"\"Returns rows where provname is still missing.\"\"\"\n",
    "    unmatched_rows = merged_data[merged_data['provname'].isnull()]\n",
    "    print(f\"Total rows still unmatched by provnum: {len(unmatched_rows)}\")\n",
    "    return unmatched_rows\n",
    "\n",
    "unmatched_rows = get_unmatched_rows_by_provname(merged_filled)\n"
   ]
  },
  {
   "cell_type": "markdown",
   "metadata": {},
   "source": [
    "The rows that are still left unmatched are shown below. They are not necessary to include since they cannot be identifiable. \n",
    "\n",
    "Uncomment to see. \n"
   ]
  },
  {
   "cell_type": "code",
   "execution_count": null,
   "metadata": {},
   "outputs": [],
   "source": [
    "# from IPython.display import display\n",
    "# display(unmatched_rows)"
   ]
  },
  {
   "cell_type": "code",
   "execution_count": 16,
   "metadata": {},
   "outputs": [
    {
     "name": "stdout",
     "output_type": "stream",
     "text": [
      "(99350, 31)\n"
     ]
    }
   ],
   "source": [
    "# Final cost_report_provider_info\n",
    "cost_report_provider_info= merged_filled.dropna(subset=['provname'])\n",
    "print(cost_report_provider_info.shape)"
   ]
  },
  {
   "cell_type": "markdown",
   "metadata": {},
   "source": [
    "## Export\n",
    "\n",
    "Uncomment to save them to local machine. "
   ]
  },
  {
   "cell_type": "code",
   "execution_count": null,
   "metadata": {},
   "outputs": [],
   "source": [
    "## Save to CSV\n",
    "# health_deficiency.to_csv('health_deficiencies.csv', index=False, encoding='utf-8')\n",
    "# quality.to_csv('quality.csv', index=False, encoding='utf-8')\n",
    "# penalties.to_csv('penalties.csv', index=False, encoding='utf-8')\n",
    "# cost_report_provider_info.to_csv('cost_report_provider_info.csv', index=False, encoding='utf-8')\n"
   ]
  }
 ],
 "metadata": {
  "kernelspec": {
   "display_name": ".venv",
   "language": "python",
   "name": "python3"
  },
  "language_info": {
   "codemirror_mode": {
    "name": "ipython",
    "version": 3
   },
   "file_extension": ".py",
   "mimetype": "text/x-python",
   "name": "python",
   "nbconvert_exporter": "python",
   "pygments_lexer": "ipython3",
   "version": "3.12.1"
  }
 },
 "nbformat": 4,
 "nbformat_minor": 2
}
